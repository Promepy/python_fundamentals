{
 "cells": [
  {
   "cell_type": "code",
   "execution_count": 1,
   "metadata": {},
   "outputs": [],
   "source": [
    "continuation on for loops:"
   ]
  },
  {
   "cell_type": "code",
   "execution_count": null,
   "metadata": {},
   "outputs": [],
   "source": [
    "#general syntax of a for loop:\n",
    "\n",
    "for tempvar in mainvar:\n",
    "    print(tempvar)"
   ]
  },
  {
   "cell_type": "code",
   "execution_count": null,
   "metadata": {},
   "outputs": [],
   "source": []
  },
  {
   "cell_type": "code",
   "execution_count": 26,
   "metadata": {},
   "outputs": [],
   "source": [
    "students = ['gowtham', 'promepy', 'sandp', 'ruku', 'bp', 'likki', 'woon']"
   ]
  },
  {
   "cell_type": "code",
   "execution_count": null,
   "metadata": {},
   "outputs": [],
   "source": []
  },
  {
   "cell_type": "code",
   "execution_count": 27,
   "metadata": {},
   "outputs": [
    {
     "name": "stdout",
     "output_type": "stream",
     "text": [
      "['gowtham', 'promepy', 'sandp', 'ruku', 'bp', 'likki', 'woon']\n"
     ]
    }
   ],
   "source": [
    "print(students)"
   ]
  },
  {
   "cell_type": "code",
   "execution_count": null,
   "metadata": {},
   "outputs": [],
   "source": []
  },
  {
   "cell_type": "code",
   "execution_count": 28,
   "metadata": {},
   "outputs": [
    {
     "name": "stdout",
     "output_type": "stream",
     "text": [
      "gowtham\n",
      "promepy\n",
      "sandp\n",
      "ruku\n",
      "bp\n",
      "likki\n",
      "woon\n"
     ]
    }
   ],
   "source": [
    "for random in students:\n",
    "    print(random)"
   ]
  },
  {
   "cell_type": "code",
   "execution_count": null,
   "metadata": {},
   "outputs": [],
   "source": []
  },
  {
   "cell_type": "code",
   "execution_count": 2,
   "metadata": {},
   "outputs": [],
   "source": [
    "#requirements:\n",
    "\n",
    "#1. appretitating all the above for sending the files.\n",
    "#2. I also want to tell them i would be looking forward to recieve their files today."
   ]
  },
  {
   "cell_type": "code",
   "execution_count": null,
   "metadata": {},
   "outputs": [],
   "source": []
  },
  {
   "cell_type": "code",
   "execution_count": 29,
   "metadata": {},
   "outputs": [
    {
     "name": "stdout",
     "output_type": "stream",
     "text": [
      "keep up the good work, Gowtham\n",
      "I am looking forward to receive your files of today, Gowtham\n",
      "keep up the good work, Promepy\n",
      "I am looking forward to receive your files of today, Promepy\n",
      "keep up the good work, Sandp\n",
      "I am looking forward to receive your files of today, Sandp\n",
      "keep up the good work, Ruku\n",
      "I am looking forward to receive your files of today, Ruku\n",
      "keep up the good work, Bp\n",
      "I am looking forward to receive your files of today, Bp\n",
      "keep up the good work, Likki\n",
      "I am looking forward to receive your files of today, Likki\n",
      "keep up the good work, Woon\n",
      "I am looking forward to receive your files of today, Woon\n"
     ]
    }
   ],
   "source": [
    "#enhancement of the code:\n",
    "\n",
    "for random in students:\n",
    "    print(f\"keep up the good work, {random.title()}\")\n",
    "    print(f\"I am looking forward to receive your files of today, {random.title()}\")"
   ]
  },
  {
   "cell_type": "code",
   "execution_count": 30,
   "metadata": {},
   "outputs": [
    {
     "name": "stdout",
     "output_type": "stream",
     "text": [
      "keep up the good work, Gowtham\n",
      "I am looking forward to receive your files of today, Gowtham\n",
      "\n",
      "keep up the good work, Promepy\n",
      "I am looking forward to receive your files of today, Promepy\n",
      "\n",
      "keep up the good work, Sandp\n",
      "I am looking forward to receive your files of today, Sandp\n",
      "\n",
      "keep up the good work, Ruku\n",
      "I am looking forward to receive your files of today, Ruku\n",
      "\n",
      "keep up the good work, Bp\n",
      "I am looking forward to receive your files of today, Bp\n",
      "\n",
      "keep up the good work, Likki\n",
      "I am looking forward to receive your files of today, Likki\n",
      "\n",
      "keep up the good work, Woon\n",
      "I am looking forward to receive your files of today, Woon\n",
      "\n"
     ]
    }
   ],
   "source": [
    "#presenting in a better way\n",
    "\n",
    "for random in students:\n",
    "    print(f\"keep up the good work, {random.title()}\")\n",
    "    print(f\"I am looking forward to receive your files of today, {random.title()}\\n\")"
   ]
  },
  {
   "cell_type": "code",
   "execution_count": null,
   "metadata": {},
   "outputs": [],
   "source": [
    "#req: 3\n",
    "\n",
    "# generic message to all the participants:\n",
    "\n",
    "'Thank you all for joining in the python sessions'"
   ]
  },
  {
   "cell_type": "code",
   "execution_count": 31,
   "metadata": {},
   "outputs": [
    {
     "name": "stdout",
     "output_type": "stream",
     "text": [
      "keep up the good work, Gowtham\n",
      "I am looking forward to receive your files of today, Gowtham\n",
      "\n",
      "keep up the good work, Promepy\n",
      "I am looking forward to receive your files of today, Promepy\n",
      "\n",
      "keep up the good work, Sandp\n",
      "I am looking forward to receive your files of today, Sandp\n",
      "\n",
      "keep up the good work, Ruku\n",
      "I am looking forward to receive your files of today, Ruku\n",
      "\n",
      "keep up the good work, Bp\n",
      "I am looking forward to receive your files of today, Bp\n",
      "\n",
      "keep up the good work, Likki\n",
      "I am looking forward to receive your files of today, Likki\n",
      "\n",
      "keep up the good work, Woon\n",
      "I am looking forward to receive your files of today, Woon\n",
      "\n",
      "Thank you all for joining in the python sessions\n"
     ]
    }
   ],
   "source": [
    "#presenting in a better way\n",
    "\n",
    "for random in students:\n",
    "    print(f\"keep up the good work, {random.title()}\")\n",
    "    print(f\"I am looking forward to receive your files of today, {random.title()}\\n\")\n",
    "print(\"Thank you all for joining in the python sessions\")"
   ]
  },
  {
   "cell_type": "code",
   "execution_count": null,
   "metadata": {},
   "outputs": [],
   "source": []
  },
  {
   "cell_type": "code",
   "execution_count": null,
   "metadata": {},
   "outputs": [],
   "source": [
    "introduction to if else conditions:\n",
    "    \n",
    "#if-else block\n",
    "\n",
    "#general syntax for if else conditions:\n",
    "\n",
    "if x(conditional block):\n",
    "    print\n",
    "else:\n",
    "    print"
   ]
  },
  {
   "cell_type": "code",
   "execution_count": 13,
   "metadata": {},
   "outputs": [],
   "source": [
    "my_students = {'gowtham', 'promepy', 'sandp', 'ruku', 'bp', 'likki', 'woon'}"
   ]
  },
  {
   "cell_type": "code",
   "execution_count": null,
   "metadata": {},
   "outputs": [],
   "source": [
    "#req: promepy is coming ----> i want to print his name in all capital letters.\n",
    "\n",
    "#req: for all others except promepy ---> i want to print in title case."
   ]
  },
  {
   "cell_type": "code",
   "execution_count": 15,
   "metadata": {},
   "outputs": [
    {
     "name": "stdout",
     "output_type": "stream",
     "text": [
      "Likki\n",
      "PROMEPY\n",
      "Ruku\n",
      "Woon\n",
      "Bp\n",
      "Gowtham\n",
      "Sandp\n"
     ]
    }
   ],
   "source": [
    "for student in my_students:\n",
    "    if student == 'promepy': # apply the comparison operator ==\n",
    "        print(student.upper())\n",
    "    else:\n",
    "        print(student.title())"
   ]
  },
  {
   "cell_type": "code",
   "execution_count": null,
   "metadata": {},
   "outputs": [],
   "source": []
  },
  {
   "cell_type": "code",
   "execution_count": null,
   "metadata": {},
   "outputs": [],
   "source": [
    "introduction to slicing of lists:\n",
    "    \n",
    "#general syntax of slicing ===> mainvar[startvalue: stopvalue : stepcount]\n",
    "#totally based upon indexing"
   ]
  },
  {
   "cell_type": "code",
   "execution_count": 21,
   "metadata": {},
   "outputs": [],
   "source": [
    "my_students =  ['gowtham', 'promepy', 'sandp', 'bp', 'ruku', 'likki', 'woon']"
   ]
  },
  {
   "cell_type": "code",
   "execution_count": null,
   "metadata": {},
   "outputs": [],
   "source": [
    "#req1: gowtham and promepy  in a single group.\n",
    "\n",
    "#last value is always exclusive"
   ]
  },
  {
   "cell_type": "code",
   "execution_count": 23,
   "metadata": {},
   "outputs": [
    {
     "name": "stdout",
     "output_type": "stream",
     "text": [
      "['gowtham']\n"
     ]
    }
   ],
   "source": [
    "print(my_students[0:1])"
   ]
  },
  {
   "cell_type": "code",
   "execution_count": 24,
   "metadata": {},
   "outputs": [
    {
     "name": "stdout",
     "output_type": "stream",
     "text": [
      "['gowtham', 'promepy']\n"
     ]
    }
   ],
   "source": [
    "print(my_students[0:2])"
   ]
  },
  {
   "cell_type": "code",
   "execution_count": 25,
   "metadata": {},
   "outputs": [
    {
     "name": "stdout",
     "output_type": "stream",
     "text": [
      "['sandp', 'bp']\n"
     ]
    }
   ],
   "source": [
    "print(my_students[2:4])"
   ]
  },
  {
   "cell_type": "code",
   "execution_count": null,
   "metadata": {},
   "outputs": [],
   "source": []
  },
  {
   "cell_type": "code",
   "execution_count": null,
   "metadata": {},
   "outputs": [],
   "source": []
  },
  {
   "cell_type": "code",
   "execution_count": null,
   "metadata": {},
   "outputs": [],
   "source": []
  }
 ],
 "metadata": {
  "kernelspec": {
   "display_name": "Python 3",
   "language": "python",
   "name": "python3"
  },
  "language_info": {
   "codemirror_mode": {
    "name": "ipython",
    "version": 3
   },
   "file_extension": ".py",
   "mimetype": "text/x-python",
   "name": "python",
   "nbconvert_exporter": "python",
   "pygments_lexer": "ipython3",
   "version": "3.7.6"
  }
 },
 "nbformat": 4,
 "nbformat_minor": 4
}
