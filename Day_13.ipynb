{
 "cells": [
  {
   "cell_type": "code",
   "execution_count": null,
   "metadata": {},
   "outputs": [],
   "source": [
    "defining the func ----> def\n",
    "\n",
    "docstring ---->commenting inside the function ---->\"\"\" \"\"\"\n",
    "\n",
    "parameters and arguments\n",
    "\n",
    "types of arguments:\n",
    "    positional arguements\n",
    "    keyword arguments\n",
    "    \n",
    "    default arguments\n",
    "    arbitrary arguments\n",
    "    \n",
    "return values"
   ]
  },
  {
   "cell_type": "code",
   "execution_count": null,
   "metadata": {},
   "outputs": [],
   "source": []
  },
  {
   "cell_type": "code",
   "execution_count": 3,
   "metadata": {},
   "outputs": [],
   "source": [
    "def describe_pet(animal_type, pet_name): #passing parameters\n",
    "    \"\"\"Displaying information about a pet\"\"\" #docstring\n",
    "    print(f\"\\nI have a {animal_type}\")\n",
    "    print(f\"My {animal_type}'s name is {pet_name.title()}\")"
   ]
  },
  {
   "cell_type": "code",
   "execution_count": 4,
   "metadata": {},
   "outputs": [
    {
     "name": "stdout",
     "output_type": "stream",
     "text": [
      "\n",
      "I have a dog\n",
      "My dog's name is Puppy\n"
     ]
    }
   ],
   "source": [
    "describe_pet(\"dog\", \"puppy\")"
   ]
  },
  {
   "cell_type": "code",
   "execution_count": null,
   "metadata": {},
   "outputs": [],
   "source": [
    "#default arguments"
   ]
  },
  {
   "cell_type": "code",
   "execution_count": 6,
   "metadata": {},
   "outputs": [
    {
     "ename": "TypeError",
     "evalue": "describe_pet() missing 1 required positional argument: 'pet_name'",
     "output_type": "error",
     "traceback": [
      "\u001b[1;31m---------------------------------------------------------------------------\u001b[0m",
      "\u001b[1;31mTypeError\u001b[0m                                 Traceback (most recent call last)",
      "\u001b[1;32m<ipython-input-6-53c3314cd1a6>\u001b[0m in \u001b[0;36m<module>\u001b[1;34m\u001b[0m\n\u001b[1;32m----> 1\u001b[1;33m \u001b[0mdescribe_pet\u001b[0m\u001b[1;33m(\u001b[0m\u001b[1;34m\"kothi\"\u001b[0m\u001b[1;33m)\u001b[0m\u001b[1;33m\u001b[0m\u001b[1;33m\u001b[0m\u001b[0m\n\u001b[0m",
      "\u001b[1;31mTypeError\u001b[0m: describe_pet() missing 1 required positional argument: 'pet_name'"
     ]
    }
   ],
   "source": [
    "describe_pet(\"kothi\")"
   ]
  },
  {
   "cell_type": "code",
   "execution_count": null,
   "metadata": {},
   "outputs": [],
   "source": [
    "#req: avoid error by defaulting the animal_type to dog"
   ]
  },
  {
   "cell_type": "code",
   "execution_count": 7,
   "metadata": {},
   "outputs": [
    {
     "ename": "SyntaxError",
     "evalue": "non-default argument follows default argument (<ipython-input-7-873bfb1be7c9>, line 1)",
     "output_type": "error",
     "traceback": [
      "\u001b[1;36m  File \u001b[1;32m\"<ipython-input-7-873bfb1be7c9>\"\u001b[1;36m, line \u001b[1;32m1\u001b[0m\n\u001b[1;33m    def describe_pet(animal_type=\"dog\", pet_name): #passing parameters\u001b[0m\n\u001b[1;37m                    ^\u001b[0m\n\u001b[1;31mSyntaxError\u001b[0m\u001b[1;31m:\u001b[0m non-default argument follows default argument\n"
     ]
    }
   ],
   "source": [
    "def describe_pet(animal_type=\"dog\", pet_name):\n",
    "    \"\"\"Displaying information about a pet\"\"\"\n",
    "    print(f\"\\nI have a {animal_type}\")\n",
    "    print(f\"My {animal_type}'s name is {pet_name.title()}\")"
   ]
  },
  {
   "cell_type": "code",
   "execution_count": null,
   "metadata": {},
   "outputs": [],
   "source": [
    "#always place default arguments in last position"
   ]
  },
  {
   "cell_type": "code",
   "execution_count": 8,
   "metadata": {},
   "outputs": [],
   "source": [
    "def describe_pet(pet_name, animal_type=\"dog\"): \n",
    "    \"\"\"Displaying information about a pet\"\"\"\n",
    "    print(f\"\\nI have a {animal_type}\")\n",
    "    print(f\"My {animal_type}'s name is {pet_name.title()}\")"
   ]
  },
  {
   "cell_type": "code",
   "execution_count": 10,
   "metadata": {},
   "outputs": [
    {
     "name": "stdout",
     "output_type": "stream",
     "text": [
      "\n",
      "I have a dog\n",
      "My dog's name is Kimpy\n"
     ]
    }
   ],
   "source": [
    "describe_pet(\"Kimpy\")"
   ]
  },
  {
   "cell_type": "code",
   "execution_count": 11,
   "metadata": {},
   "outputs": [
    {
     "name": "stdout",
     "output_type": "stream",
     "text": [
      "\n",
      "I have a monkey\n",
      "My monkey's name is Kothi\n"
     ]
    }
   ],
   "source": [
    "describe_pet(\"kothi\", \"monkey\")"
   ]
  },
  {
   "cell_type": "code",
   "execution_count": null,
   "metadata": {},
   "outputs": [],
   "source": []
  },
  {
   "cell_type": "code",
   "execution_count": 12,
   "metadata": {},
   "outputs": [],
   "source": [
    "def get_formatted_name(first_name, last_name):  #defining the fun and the parameters\n",
    "    \"\"\"Return fully formatted full name given firstname and lastname\"\"\" #doc string\n",
    "    full_name = f\"{first_name} {last_name}\" #attribute\n",
    "    return full_name.title() #controlling the output of the function"
   ]
  },
  {
   "cell_type": "code",
   "execution_count": 13,
   "metadata": {},
   "outputs": [
    {
     "data": {
      "text/plain": [
       "'Gowtham Muraharirao'"
      ]
     },
     "execution_count": 13,
     "metadata": {},
     "output_type": "execute_result"
    }
   ],
   "source": [
    "get_formatted_name(\"Gowtham\", \"Muraharirao\")"
   ]
  },
  {
   "cell_type": "code",
   "execution_count": null,
   "metadata": {},
   "outputs": [],
   "source": [
    "#arbitrary number of arguments..... #speculative args"
   ]
  },
  {
   "cell_type": "code",
   "execution_count": 14,
   "metadata": {},
   "outputs": [],
   "source": [
    "def make_pizza(topping):\n",
    "    \"\"\"Print the list of toppings that are requested\"\"\"\n",
    "    print(topping)"
   ]
  },
  {
   "cell_type": "code",
   "execution_count": 15,
   "metadata": {},
   "outputs": [
    {
     "name": "stdout",
     "output_type": "stream",
     "text": [
      "corn\n"
     ]
    }
   ],
   "source": [
    "make_pizza('corn')"
   ]
  },
  {
   "cell_type": "code",
   "execution_count": 16,
   "metadata": {},
   "outputs": [
    {
     "ename": "TypeError",
     "evalue": "make_pizza() takes 1 positional argument but 3 were given",
     "output_type": "error",
     "traceback": [
      "\u001b[1;31m---------------------------------------------------------------------------\u001b[0m",
      "\u001b[1;31mTypeError\u001b[0m                                 Traceback (most recent call last)",
      "\u001b[1;32m<ipython-input-16-e253638675a3>\u001b[0m in \u001b[0;36m<module>\u001b[1;34m\u001b[0m\n\u001b[1;32m----> 1\u001b[1;33m \u001b[0mmake_pizza\u001b[0m\u001b[1;33m(\u001b[0m\u001b[1;34m'onion'\u001b[0m\u001b[1;33m,\u001b[0m\u001b[1;34m'corn'\u001b[0m\u001b[1;33m,\u001b[0m\u001b[1;34m'oilives'\u001b[0m\u001b[1;33m)\u001b[0m\u001b[1;33m\u001b[0m\u001b[1;33m\u001b[0m\u001b[0m\n\u001b[0m",
      "\u001b[1;31mTypeError\u001b[0m: make_pizza() takes 1 positional argument but 3 were given"
     ]
    }
   ],
   "source": [
    "make_pizza('onion','corn','oilives')"
   ]
  },
  {
   "cell_type": "code",
   "execution_count": 17,
   "metadata": {},
   "outputs": [],
   "source": [
    "def make_pizza(*topping):\n",
    "    \"\"\"Print the list of toppings that are requested\"\"\"\n",
    "    print(topping)"
   ]
  },
  {
   "cell_type": "code",
   "execution_count": 18,
   "metadata": {},
   "outputs": [
    {
     "name": "stdout",
     "output_type": "stream",
     "text": [
      "('onion', 'corn', 'oilives')\n"
     ]
    }
   ],
   "source": [
    "make_pizza('onion','corn','oilives')"
   ]
  },
  {
   "cell_type": "code",
   "execution_count": 19,
   "metadata": {},
   "outputs": [
    {
     "name": "stdout",
     "output_type": "stream",
     "text": [
      "('onion', 'corn', 'oilives', 'chicken', 'margaritta')\n"
     ]
    }
   ],
   "source": [
    "make_pizza('onion','corn','oilives','chicken','margaritta')"
   ]
  },
  {
   "cell_type": "code",
   "execution_count": null,
   "metadata": {},
   "outputs": [],
   "source": [
    "#Enhancement of code"
   ]
  },
  {
   "cell_type": "code",
   "execution_count": 24,
   "metadata": {},
   "outputs": [],
   "source": [
    "def make_pizza(*toppings):\n",
    "    \"\"\"Print the list of toppings that are requested\"\"\"\n",
    "    print(\"\\nMaking a pizza with following toppings:\")\n",
    "    for x in toppings:\n",
    "        print(f\"- {x}\")"
   ]
  },
  {
   "cell_type": "code",
   "execution_count": 26,
   "metadata": {},
   "outputs": [
    {
     "name": "stdout",
     "output_type": "stream",
     "text": [
      "\n",
      "Making a pizza with following toppings:\n",
      "- onion\n",
      "- corn\n",
      "- oilives\n",
      "- chicken\n",
      "- margaritta\n",
      "\n",
      "Making a pizza with following toppings:\n",
      "- onion\n",
      "- corn\n",
      "- oilives\n",
      "\n",
      "Making a pizza with following toppings:\n",
      "- corn\n"
     ]
    }
   ],
   "source": [
    "make_pizza('onion','corn','oilives','chicken','margaritta')\n",
    "make_pizza('onion','corn','oilives')\n",
    "make_pizza('corn')"
   ]
  },
  {
   "cell_type": "code",
   "execution_count": null,
   "metadata": {},
   "outputs": [],
   "source": []
  }
 ],
 "metadata": {
  "kernelspec": {
   "display_name": "Python 3",
   "language": "python",
   "name": "python3"
  },
  "language_info": {
   "codemirror_mode": {
    "name": "ipython",
    "version": 3
   },
   "file_extension": ".py",
   "mimetype": "text/x-python",
   "name": "python",
   "nbconvert_exporter": "python",
   "pygments_lexer": "ipython3",
   "version": "3.7.6"
  }
 },
 "nbformat": 4,
 "nbformat_minor": 4
}
